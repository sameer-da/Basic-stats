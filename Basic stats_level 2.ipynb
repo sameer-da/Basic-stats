{
 "cells": [
  {
   "cell_type": "code",
   "execution_count": 1,
   "id": "6fd398ec",
   "metadata": {},
   "outputs": [],
   "source": [
    "import pandas as pd"
   ]
  },
  {
   "cell_type": "markdown",
   "id": "0b376652",
   "metadata": {},
   "source": [
    "### Set 1. Q1"
   ]
  },
  {
   "cell_type": "code",
   "execution_count": 2,
   "id": "15a2dda5",
   "metadata": {},
   "outputs": [],
   "source": [
    "q1 = pd.Series([24.23,25.53,25.41,24.14,29.62,28.25,25.81,\n",
    "               24.39,40.26,32.95,91.36,25.99,39.42,26.71,35.00])"
   ]
  },
  {
   "cell_type": "code",
   "execution_count": 3,
   "id": "759826e5",
   "metadata": {},
   "outputs": [
    {
     "data": {
      "image/png": "[encoded data removed]",
      "text/plain": [
       "<Figure size 432x288 with 1 Axes>"
      ]
     },
     "metadata": {
      "needs_background": "light"
     },
     "output_type": "display_data"
    }
   ],
   "source": [
    "import matplotlib.pyplot as plt \n",
    "import seaborn as sns\n",
    "sns.boxplot(data=q1)\n",
    "plt.show()"
   ]
  },
  {
   "cell_type": "code",
   "execution_count": 4,
   "id": "c6be5171",
   "metadata": {},
   "outputs": [
    {
     "data": {
      "text/plain": [
       "33.27133333333333"
      ]
     },
     "execution_count": 4,
     "metadata": {},
     "output_type": "execute_result"
    }
   ],
   "source": [
    "Mean =q1.mean()  \n",
    "Mean"
   ]
  },
  {
   "cell_type": "code",
   "execution_count": 5,
   "id": "6b833ef9",
   "metadata": {},
   "outputs": [
    {
     "data": {
      "text/plain": [
       "16.945400921222028"
      ]
     },
     "execution_count": 5,
     "metadata": {},
     "output_type": "execute_result"
    }
   ],
   "source": [
    "Standard_deviation= q1.std()\n",
    "Standard_deviation"
   ]
  },
  {
   "cell_type": "code",
   "execution_count": 6,
   "id": "cbdf4660",
   "metadata": {},
   "outputs": [
    {
     "data": {
      "text/plain": [
       "287.1466123809524"
      ]
     },
     "execution_count": 6,
     "metadata": {},
     "output_type": "execute_result"
    }
   ],
   "source": [
    "Variance=q1.var()\n",
    "Variance"
   ]
  },
  {
   "cell_type": "markdown",
   "id": "8b43686e",
   "metadata": {},
   "source": [
    "### Set2. Q1"
   ]
  },
  {
   "cell_type": "code",
   "execution_count": 7,
   "id": "166f7e19",
   "metadata": {},
   "outputs": [
    {
     "data": {
      "text/plain": [
       "0.625"
      ]
     },
     "execution_count": 7,
     "metadata": {},
     "output_type": "execute_result"
    }
   ],
   "source": [
    "from scipy import stats\n",
    "#work started after 10 mins so the mean time will be 45+10 minutes\n",
    "z = (60-55)/8\n",
    "z"
   ]
  },
  {
   "cell_type": "code",
   "execution_count": 8,
   "id": "19845478",
   "metadata": {},
   "outputs": [
    {
     "data": {
      "text/plain": [
       "0.26598552904870054"
      ]
     },
     "execution_count": 8,
     "metadata": {},
     "output_type": "execute_result"
    }
   ],
   "source": [
    "1 - stats.norm.cdf(z)"
   ]
  },
  {
   "cell_type": "markdown",
   "id": "57839517",
   "metadata": {},
   "source": [
    "### Set2. Q2"
   ]
  },
  {
   "cell_type": "code",
   "execution_count": 9,
   "id": "12611802",
   "metadata": {},
   "outputs": [
    {
     "data": {
      "text/plain": [
       "1.0"
      ]
     },
     "execution_count": 9,
     "metadata": {},
     "output_type": "execute_result"
    }
   ],
   "source": [
    "z_score = (44-38)/6\n",
    "z_score"
   ]
  },
  {
   "cell_type": "code",
   "execution_count": 10,
   "id": "93882424",
   "metadata": {},
   "outputs": [
    {
     "data": {
      "text/plain": [
       "15.865525393145708"
      ]
     },
     "execution_count": 10,
     "metadata": {},
     "output_type": "execute_result"
    }
   ],
   "source": [
    "#% of employees older than 44\n",
    "(1 - stats.norm.cdf(z_score))*100"
   ]
  },
  {
   "cell_type": "code",
   "execution_count": 11,
   "id": "db65a65b",
   "metadata": {},
   "outputs": [
    {
     "data": {
      "text/plain": [
       "0.0"
      ]
     },
     "execution_count": 11,
     "metadata": {},
     "output_type": "execute_result"
    }
   ],
   "source": [
    "z_scr = (38-38)/6\n",
    "z_scr"
   ]
  },
  {
   "cell_type": "code",
   "execution_count": 12,
   "id": "6e1479fc",
   "metadata": {},
   "outputs": [
    {
     "data": {
      "text/plain": [
       "34.1344746068543"
      ]
     },
     "execution_count": 12,
     "metadata": {},
     "output_type": "execute_result"
    }
   ],
   "source": [
    "# % of employees between age 38 and 44\n",
    "p_38 = stats.norm.cdf(z_scr)*100\n",
    "p_44 = stats.norm.cdf(z_score)*100\n",
    "p_44 - p_38"
   ]
  },
  {
   "cell_type": "code",
   "execution_count": 13,
   "id": "8ba37498",
   "metadata": {},
   "outputs": [
    {
     "data": {
      "text/plain": [
       "9.121121972586788"
      ]
     },
     "execution_count": 13,
     "metadata": {},
     "output_type": "execute_result"
    }
   ],
   "source": [
    "#Q2 B\n",
    "# training program for employees under age 30\n",
    "z_30  = (30-38)/6\n",
    "stats.norm.cdf (z_30)*100"
   ]
  },
  {
   "cell_type": "markdown",
   "id": "8c42a873",
   "metadata": {},
   "source": [
    "### Set2. Q5"
   ]
  },
  {
   "cell_type": "code",
   "execution_count": 14,
   "id": "720f5d1e",
   "metadata": {},
   "outputs": [
    {
     "name": "stdout",
     "output_type": "stream",
     "text": [
      "Mean profit in rupees 540 million\n"
     ]
    }
   ],
   "source": [
    "#mean from 2 divisions of company\n",
    "Mean = (5+7)*45\n",
    "print('Mean profit in rupees',Mean,'million')"
   ]
  },
  {
   "cell_type": "code",
   "execution_count": 15,
   "id": "a532a3de",
   "metadata": {},
   "outputs": [
    {
     "name": "stdout",
     "output_type": "stream",
     "text": [
      "Standard Deviation is Rs 225.0 Million\n"
     ]
    }
   ],
   "source": [
    "#variance from 2 divisions\n",
    "import numpy as np\n",
    "sd= np.sqrt((9)+(16))\n",
    "print('Standard Deviation is Rs', sd*45, 'Million')"
   ]
  },
  {
   "cell_type": "code",
   "execution_count": 16,
   "id": "d52a2e1a",
   "metadata": {},
   "outputs": [
    {
     "name": "stdout",
     "output_type": "stream",
     "text": [
      "Range is Rs (99.00810347848784, 980.9918965215122) in Millions\n"
     ]
    }
   ],
   "source": [
    "# 95% probablity range for profit of company\n",
    "print('Range is Rs',(stats.norm.interval(0.95,540,225)),'in Millions')"
   ]
  },
  {
   "cell_type": "code",
   "execution_count": 17,
   "id": "af2ee59c",
   "metadata": {},
   "outputs": [
    {
     "name": "stdout",
     "output_type": "stream",
     "text": [
      "5th percentile of profit (in Million Rupees) is 170.0\n"
     ]
    }
   ],
   "source": [
    "# B. Specify the 5th percentile of profit (in Rupees) for the company\n",
    "# X=μ + Zσ; wherein from z table, 5 percentile = -1.645\n",
    "X= 540+(-1.645)*(225)\n",
    "print('5th percentile of profit (in Million Rupees) is',np.round(X,))"
   ]
  },
  {
   "cell_type": "code",
   "execution_count": 18,
   "id": "01a59fff",
   "metadata": {},
   "outputs": [
    {
     "data": {
      "text/plain": [
       "4.7790352272814705"
      ]
     },
     "execution_count": 18,
     "metadata": {},
     "output_type": "execute_result"
    }
   ],
   "source": [
    "# Probability of Division 1 making a loss P(X<0)\n",
    "(stats.norm.cdf(0,5,3))*100\n"
   ]
  },
  {
   "cell_type": "code",
   "execution_count": 19,
   "id": "7bfb9ee4",
   "metadata": {},
   "outputs": [
    {
     "data": {
      "text/plain": [
       "4.005915686381709"
      ]
     },
     "execution_count": 19,
     "metadata": {},
     "output_type": "execute_result"
    }
   ],
   "source": [
    "# Probability of Division 2 making a loss P(X<0)\n",
    "(stats.norm.cdf(0,7,4))*100"
   ]
  },
  {
   "cell_type": "markdown",
   "id": "08f89760",
   "metadata": {},
   "source": [
    "### Set3. Q3"
   ]
  },
  {
   "cell_type": "code",
   "execution_count": 20,
   "id": "fdd1749a",
   "metadata": {},
   "outputs": [
    {
     "name": "stdout",
     "output_type": "stream",
     "text": [
      "-1.25 1.25\n"
     ]
    }
   ],
   "source": [
    "z_45 = (45-50)/(40/np.sqrt(100))\n",
    "z_55 = (55-50)/(40/np.sqrt(100))\n",
    "print(z_45,z_55)"
   ]
  },
  {
   "cell_type": "code",
   "execution_count": 21,
   "id": "b447956e",
   "metadata": {},
   "outputs": [
    {
     "data": {
      "text/plain": [
       "0.7887004526662893"
      ]
     },
     "execution_count": 21,
     "metadata": {},
     "output_type": "execute_result"
    }
   ],
   "source": [
    "# For No investigation P(45<X<55) using z_scores = P(X<50)-P(X<45)\n",
    "stats.norm.cdf(1.25)-stats.norm.cdf(-1.25)"
   ]
  },
  {
   "cell_type": "code",
   "execution_count": 23,
   "id": "72dd0313",
   "metadata": {},
   "outputs": [
    {
     "data": {
      "text/plain": [
       "21.130000000000003"
      ]
     },
     "execution_count": 23,
     "metadata": {},
     "output_type": "execute_result"
    }
   ],
   "source": [
    "# For Investigation 1-P(45<X<55)\n",
    "(1-0.7887)*100"
   ]
  }
 ],
 "metadata": {
  "kernelspec": {
   "display_name": "Python 3 (ipykernel)",
   "language": "python",
   "name": "python3"
  },
  "language_info": {
   "codemirror_mode": {
    "name": "ipython",
    "version": 3
   },
   "file_extension": ".py",
   "mimetype": "text/x-python",
   "name": "python",
   "nbconvert_exporter": "python",
   "pygments_lexer": "ipython3",
   "version": "3.9.12"
  }
 },
 "nbformat": 4,
 "nbformat_minor": 5
}
